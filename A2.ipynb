{
  "cells": [
    {
      "cell_type": "code",
      "execution_count": null,
      "metadata": {
        "id": "dA8NW5CXk4R8"
      },
      "outputs": [],
      "source": [
        "! pip install ColabTurtle"
      ]
    },
    {
      "cell_type": "code",
      "execution_count": null,
      "metadata": {
        "id": "lC-pvA6fkeCo"
      },
      "outputs": [],
      "source": [
        "import random\n",
        "import ColabTurtle.Turtle as t\n",
        "from IPython.display import clear_output\n",
        "\n",
        "def create_l_system(iterations, axiom, rules):\n",
        "    \"\"\"Generate L-System instructions based on axiom and rules.\"\"\"\n",
        "    result = axiom\n",
        "    for _ in range(iterations):\n",
        "        new_string = \"\"\n",
        "        for char in result:\n",
        "            new_string += rules.get(char, char)\n",
        "        result = new_string\n",
        "    return result\n"
      ]
    },
    {
      "cell_type": "markdown",
      "metadata": {
        "id": "h33rK5ZzlE3t"
      },
      "source": [
        "**L-system**"
      ]
    },
    {
      "cell_type": "code",
      "execution_count": 49,
      "metadata": {
        "id": "We_kkvOXkuWc"
      },
      "outputs": [],
      "source": [
        "def draw_l_system(instructions, angle, distance):\n",
        "    \"\"\"Draw the L-System using turtle graphics.\n",
        "\n",
        "    Parameters:\n",
        "    - instructions: string of L-System commands\n",
        "    - angle: turning angle in degrees\n",
        "    - distance: forward movement distance\n",
        "    \"\"\"\n",
        "    stack = []\n",
        "    current_pen_size = 2\n",
        "    t.pensize(current_pen_size)\n",
        "\n",
        "\n",
        "    colors = ['red', 'green', 'blue', 'purple', 'orange', 'yellow']\n",
        "    color_index = 0  # Start with the first color in the list\n",
        "    t.pencolor(colors[color_index])\n",
        "\n",
        "    for cmd in instructions:\n",
        "        if cmd == 'F':  # Move forward and draw\n",
        "            angle += random.randint(-10,10)\n",
        "            t.forward(distance)\n",
        "        elif cmd == 'f':  # Move forward without drawing\n",
        "            t.penup()\n",
        "            current_pen_size += 1\n",
        "            t.pensize(current_pen_size)\n",
        "            t.forward(distance)\n",
        "            distance += .2\n",
        "\n",
        "            color_index = (color_index + 1) % len(colors)  # Cycle through colors\n",
        "            t.pencolor(colors[color_index])\n",
        "\n",
        "            t.pendown()\n",
        "        elif cmd == '+':  # Turn right\n",
        "            t.right(angle)\n",
        "        elif cmd == '-':  # Turn left\n",
        "            t.left(angle)\n",
        "        elif cmd == '[':  # Save current state\n",
        "            stack.append((t.position(), t.heading()))\n",
        "        elif cmd == ']':  # Restore previous state\n",
        "            position, heading = stack.pop()\n",
        "            t.penup()\n",
        "            t.goto(position)\n",
        "            t.setheading(heading)\n",
        "            t.pendown()\n",
        "\n",
        "def setup_turtle():\n",
        "        t.initializeTurtle()\n",
        "        t.hideturtle()\n",
        "        t.speed(13)  # Fastest speed\n",
        "        t.penup()\n",
        "        t.goto(t.window_width() // 2, t.window_height()/2)  # Start position\n",
        "        t.pendown()"
      ]
    },
    {
      "cell_type": "markdown",
      "metadata": {
        "id": "Ne7570_hn5xu"
      },
      "source": [
        "Rule 1"
      ]
    },
    {
      "cell_type": "code",
      "execution_count": 55,
      "metadata": {
        "colab": {
          "base_uri": "https://localhost:8080/",
          "height": 521
        },
        "id": "iY6G9R1BnzzR",
        "outputId": "e616e226-cf0c-4473-b539-a44b926d22dc"
      },
      "outputs": [
        {
          "output_type": "display_data",
          "data": {
            "text/plain": [
              "<IPython.core.display.HTML object>"
            ],
            "text/html": [
              "\n",
              "      <svg width=\"800\" height=\"500\">\n",
              "        <rect width=\"100%\" height=\"100%\" fill=\"black\"/>\n",
              "        <line x1=\"400.0\" y1=\"240.4\" x2=\"400.0\" y2=\"236.8\" stroke-linecap=\"round\" style=\"stroke:purple;stroke-width:5\"/><line x1=\"400.0\" y1=\"236.8\" x2=\"403.361\" y2=\"235.51\" stroke-linecap=\"round\" style=\"stroke:purple;stroke-width:5\"/><line x1=\"400.0\" y1=\"236.8\" x2=\"400.0\" y2=\"233.2\" stroke-linecap=\"round\" style=\"stroke:purple;stroke-width:5\"/><line x1=\"400.0\" y1=\"233.2\" x2=\"396.409\" y2=\"232.949\" stroke-linecap=\"round\" style=\"stroke:purple;stroke-width:5\"/><line x1=\"396.472\" y1=\"229.35\" x2=\"396.538\" y2=\"225.551\" stroke-linecap=\"round\" style=\"stroke:orange;stroke-width:6\"/><line x1=\"396.538\" y1=\"225.551\" x2=\"400.333\" y2=\"225.75\" stroke-linecap=\"round\" style=\"stroke:orange;stroke-width:6\"/><line x1=\"396.538\" y1=\"225.551\" x2=\"396.604\" y2=\"221.752\" stroke-linecap=\"round\" style=\"stroke:orange;stroke-width:6\"/><line x1=\"396.604\" y1=\"221.752\" x2=\"392.809\" y2=\"221.951\" stroke-linecap=\"round\" style=\"stroke:orange;stroke-width:6\"/><line x1=\"392.618\" y1=\"232.684\" x2=\"388.628\" y2=\"232.405\" stroke-linecap=\"round\" style=\"stroke:yellow;stroke-width:7\"/><line x1=\"388.628\" y1=\"232.405\" x2=\"389.731\" y2=\"228.56\" stroke-linecap=\"round\" style=\"stroke:yellow;stroke-width:7\"/><line x1=\"388.628\" y1=\"232.405\" x2=\"384.638\" y2=\"232.126\" stroke-linecap=\"round\" style=\"stroke:yellow;stroke-width:7\"/><line x1=\"384.638\" y1=\"232.126\" x2=\"384.429\" y2=\"236.121\" stroke-linecap=\"round\" style=\"stroke:yellow;stroke-width:7\"/><line x1=\"388.368\" y1=\"236.816\" x2=\"392.504\" y2=\"237.545\" stroke-linecap=\"round\" style=\"stroke:red;stroke-width:8\"/><line x1=\"392.504\" y1=\"237.545\" x2=\"392.724\" y2=\"241.739\" stroke-linecap=\"round\" style=\"stroke:red;stroke-width:8\"/><line x1=\"392.504\" y1=\"237.545\" x2=\"396.64\" y2=\"238.274\" stroke-linecap=\"round\" style=\"stroke:red;stroke-width:8\"/><line x1=\"396.64\" y1=\"238.274\" x2=\"397.297\" y2=\"234.126\" stroke-linecap=\"round\" style=\"stroke:red;stroke-width:8\"/><line x1=\"405.864\" y1=\"234.875\" x2=\"410.446\" y2=\"235.276\" stroke-linecap=\"round\" style=\"stroke:blue;stroke-width:10\"/><line x1=\"410.446\" y1=\"235.276\" x2=\"410.526\" y2=\"239.875\" stroke-linecap=\"round\" style=\"stroke:blue;stroke-width:10\"/><line x1=\"410.446\" y1=\"235.276\" x2=\"415.028\" y2=\"235.677\" stroke-linecap=\"round\" style=\"stroke:blue;stroke-width:10\"/><line x1=\"415.028\" y1=\"235.677\" x2=\"415.668\" y2=\"231.122\" stroke-linecap=\"round\" style=\"stroke:blue;stroke-width:10\"/><line x1=\"420.223\" y1=\"231.762\" x2=\"424.976\" y2=\"232.43\" stroke-linecap=\"round\" style=\"stroke:purple;stroke-width:11\"/><line x1=\"424.976\" y1=\"232.43\" x2=\"424.725\" y2=\"237.223\" stroke-linecap=\"round\" style=\"stroke:purple;stroke-width:11\"/><line x1=\"424.976\" y1=\"232.43\" x2=\"429.729\" y2=\"233.098\" stroke-linecap=\"round\" style=\"stroke:purple;stroke-width:11\"/><line x1=\"429.729\" y1=\"233.098\" x2=\"430.727\" y2=\"228.403\" stroke-linecap=\"round\" style=\"stroke:purple;stroke-width:11\"/><line x1=\"416.336\" y1=\"226.369\" x2=\"417.032\" y2=\"221.418\" stroke-linecap=\"round\" style=\"stroke:orange;stroke-width:12\"/><line x1=\"417.032\" y1=\"221.418\" x2=\"422.02\" y2=\"221.767\" stroke-linecap=\"round\" style=\"stroke:orange;stroke-width:12\"/><line x1=\"417.032\" y1=\"221.418\" x2=\"417.728\" y2=\"216.467\" stroke-linecap=\"round\" style=\"stroke:orange;stroke-width:12\"/><line x1=\"417.728\" y1=\"216.467\" x2=\"413.092\" y2=\"214.594\" stroke-linecap=\"round\" style=\"stroke:orange;stroke-width:12\"/><line x1=\"410.224\" y1=\"218.69\" x2=\"407.241\" y2=\"222.95\" stroke-linecap=\"round\" style=\"stroke:yellow;stroke-width:13\"/><line x1=\"407.241\" y1=\"222.95\" x2=\"402.528\" y2=\"220.752\" stroke-linecap=\"round\" style=\"stroke:yellow;stroke-width:13\"/><line x1=\"407.241\" y1=\"222.95\" x2=\"404.258\" y2=\"227.21\" stroke-linecap=\"round\" style=\"stroke:yellow;stroke-width:13\"/><line x1=\"404.258\" y1=\"227.21\" x2=\"407.737\" y2=\"231.074\" stroke-linecap=\"round\" style=\"stroke:yellow;stroke-width:13\"/><line x1=\"398.955\" y1=\"223.656\" x2=\"399.831\" y2=\"218.125\" stroke-linecap=\"round\" style=\"stroke:green;stroke-width:15\"/><line x1=\"399.831\" y1=\"218.125\" x2=\"405.43\" y2=\"218.223\" stroke-linecap=\"round\" style=\"stroke:green;stroke-width:15\"/><line x1=\"399.831\" y1=\"218.125\" x2=\"400.707\" y2=\"212.594\" stroke-linecap=\"round\" style=\"stroke:green;stroke-width:15\"/><line x1=\"400.707\" y1=\"212.594\" x2=\"395.381\" y2=\"210.864\" stroke-linecap=\"round\" style=\"stroke:green;stroke-width:15\"/><line x1=\"396.16\" y1=\"205.318\" x2=\"396.967\" y2=\"199.574\" stroke-linecap=\"round\" style=\"stroke:blue;stroke-width:16\"/><line x1=\"396.967\" y1=\"199.574\" x2=\"402.711\" y2=\"200.381\" stroke-linecap=\"round\" style=\"stroke:blue;stroke-width:16\"/><line x1=\"396.967\" y1=\"199.574\" x2=\"397.774\" y2=\"193.83\" stroke-linecap=\"round\" style=\"stroke:blue;stroke-width:16\"/><line x1=\"397.774\" y1=\"193.83\" x2=\"392.101\" y2=\"192.624\" stroke-linecap=\"round\" style=\"stroke:blue;stroke-width:16\"/><line x1=\"389.865\" y1=\"209.072\" x2=\"384.159\" y2=\"207.218\" stroke-linecap=\"round\" style=\"stroke:purple;stroke-width:17\"/><line x1=\"384.159\" y1=\"207.218\" x2=\"386.976\" y2=\"201.92\" stroke-linecap=\"round\" style=\"stroke:purple;stroke-width:17\"/><line x1=\"384.159\" y1=\"207.218\" x2=\"378.453\" y2=\"205.364\" stroke-linecap=\"round\" style=\"stroke:purple;stroke-width:17\"/><line x1=\"378.453\" y1=\"205.364\" x2=\"375.823\" y2=\"210.757\" stroke-linecap=\"round\" style=\"stroke:purple;stroke-width:17\"/><line x1=\"381.169\" y1=\"213.481\" x2=\"386.693\" y2=\"216.296\" stroke-linecap=\"round\" style=\"stroke:orange;stroke-width:18\"/><line x1=\"386.693\" y1=\"216.296\" x2=\"384.88\" y2=\"222.225\" stroke-linecap=\"round\" style=\"stroke:orange;stroke-width:18\"/><line x1=\"386.693\" y1=\"216.296\" x2=\"392.217\" y2=\"219.111\" stroke-linecap=\"round\" style=\"stroke:orange;stroke-width:18\"/><line x1=\"392.217\" y1=\"219.111\" x2=\"396.896\" y2=\"215.043\" stroke-linecap=\"round\" style=\"stroke:orange;stroke-width:18\"/><line x1=\"390.98\" y1=\"203.918\" x2=\"387.881\" y2=\"198.091\" stroke-linecap=\"round\" style=\"stroke:red;stroke-width:20\"/><line x1=\"387.881\" y1=\"198.091\" x2=\"392.708\" y2=\"193.59\" stroke-linecap=\"round\" style=\"stroke:red;stroke-width:20\"/><line x1=\"387.881\" y1=\"198.091\" x2=\"384.782\" y2=\"192.264\" stroke-linecap=\"round\" style=\"stroke:red;stroke-width:20\"/><line x1=\"384.782\" y1=\"192.264\" x2=\"378.231\" y2=\"193.068\" stroke-linecap=\"round\" style=\"stroke:red;stroke-width:20\"/><line x1=\"375.759\" y1=\"186.949\" x2=\"373.212\" y2=\"180.644\" stroke-linecap=\"round\" style=\"stroke:green;stroke-width:21\"/><line x1=\"373.212\" y1=\"180.644\" x2=\"378.265\" y2=\"176.094\" stroke-linecap=\"round\" style=\"stroke:green;stroke-width:21\"/><line x1=\"373.212\" y1=\"180.644\" x2=\"370.665\" y2=\"174.339\" stroke-linecap=\"round\" style=\"stroke:green;stroke-width:21\"/><line x1=\"370.665\" y1=\"174.339\" x2=\"363.865\" y2=\"174.339\" stroke-linecap=\"round\" style=\"stroke:green;stroke-width:21\"/><line x1=\"371.482\" y1=\"193.897\" x2=\"364.534\" y2=\"194.75\" stroke-linecap=\"round\" style=\"stroke:blue;stroke-width:22\"/><line x1=\"364.534\" y1=\"194.75\" x2=\"363.198\" y2=\"187.879\" stroke-linecap=\"round\" style=\"stroke:blue;stroke-width:22\"/><line x1=\"364.534\" y1=\"194.75\" x2=\"357.586\" y2=\"195.603\" stroke-linecap=\"round\" style=\"stroke:blue;stroke-width:22\"/><line x1=\"357.586\" y1=\"195.603\" x2=\"358.439\" y2=\"202.551\" stroke-linecap=\"round\" style=\"stroke:blue;stroke-width:22\"/><line x1=\"365.2\" y1=\"200.739\" x2=\"372.155\" y2=\"198.876\" stroke-linecap=\"round\" style=\"stroke:purple;stroke-width:23\"/><line x1=\"372.155\" y1=\"198.876\" x2=\"372.029\" y2=\"206.075\" stroke-linecap=\"round\" style=\"stroke:purple;stroke-width:23\"/><line x1=\"372.155\" y1=\"198.876\" x2=\"379.11\" y2=\"197.013\" stroke-linecap=\"round\" style=\"stroke:purple;stroke-width:23\"/><line x1=\"379.11\" y1=\"197.013\" x2=\"376.297\" y2=\"190.385\" stroke-linecap=\"round\" style=\"stroke:purple;stroke-width:23\"/>\n",
              "        <g visibility=hidden transform=\"rotate(337,376.297,190.385) translate(358.297, 172.385)\">\n",
              "<path style=\" stroke:none;fill-rule:evenodd;fill:purple;fill-opacity:1;\" d=\"M 18.214844 0.632812 C 16.109375 1.800781 15.011719 4.074219 15.074219 7.132812 L 15.085938 7.652344 L 14.785156 7.496094 C 13.476562 6.824219 11.957031 6.671875 10.40625 7.066406 C 8.46875 7.550781 6.515625 9.15625 4.394531 11.992188 C 3.0625 13.777344 2.679688 14.636719 3.042969 15.027344 L 3.15625 15.152344 L 3.519531 15.152344 C 4.238281 15.152344 4.828125 14.886719 8.1875 13.039062 C 9.386719 12.378906 10.371094 11.839844 10.378906 11.839844 C 10.386719 11.839844 10.355469 11.929688 10.304688 12.035156 C 9.832031 13.09375 9.257812 14.820312 8.96875 16.078125 C 7.914062 20.652344 8.617188 24.53125 11.070312 27.660156 C 11.351562 28.015625 11.363281 27.914062 10.972656 28.382812 C 8.925781 30.84375 7.945312 33.28125 8.238281 35.1875 C 8.289062 35.527344 8.28125 35.523438 8.917969 35.523438 C 10.941406 35.523438 13.074219 34.207031 15.136719 31.6875 C 15.359375 31.417969 15.328125 31.425781 15.5625 31.574219 C 16.292969 32.042969 18.023438 32.964844 18.175781 32.964844 C 18.335938 32.964844 19.941406 32.210938 20.828125 31.71875 C 20.996094 31.625 21.136719 31.554688 21.136719 31.558594 C 21.203125 31.664062 21.898438 32.414062 22.222656 32.730469 C 23.835938 34.300781 25.5625 35.132812 27.582031 35.300781 C 27.90625 35.328125 27.9375 35.308594 28.007812 34.984375 C 28.382812 33.242188 27.625 30.925781 25.863281 28.425781 L 25.542969 27.96875 L 25.699219 27.785156 C 28.945312 23.960938 29.132812 18.699219 26.257812 11.96875 L 26.207031 11.84375 L 27.945312 12.703125 C 31.53125 14.476562 32.316406 14.800781 33.03125 14.800781 C 33.976562 14.800781 33.78125 13.9375 32.472656 12.292969 C 28.519531 7.355469 25.394531 5.925781 21.921875 7.472656 L 21.558594 7.636719 L 21.578125 7.542969 C 21.699219 6.992188 21.761719 5.742188 21.699219 5.164062 C 21.496094 3.296875 20.664062 1.964844 19.003906 0.855469 C 18.480469 0.503906 18.457031 0.5 18.214844 0.632812\"/>\n",
              "</g>\n",
              "      </svg>\n",
              "    "
            ]
          },
          "metadata": {}
        }
      ],
      "source": [
        "# Your fractal tree parameters\n",
        "tree_axiom = \"F\"  # Start with a single trunk\n",
        "#tree_rules = {\"F\": \"fF[+F]F[-F]F\"}  # branching rule\n",
        "tree_rules = {\"F\": \"fF[+F]F-F\"}  # branching rule\n",
        "tree_iterations = 3\n",
        "tree_angle = 60\n",
        "\n",
        "# Generate and draw\n",
        "setup_turtle()\n",
        "tree_instructions = create_l_system(tree_iterations, tree_axiom, tree_rules)\n",
        "draw_l_system(tree_instructions, tree_angle, 3)"
      ]
    },
    {
      "cell_type": "code",
      "execution_count": 35,
      "metadata": {
        "id": "_VPIU36n1yQW"
      },
      "outputs": [],
      "source": [
        "def draw_l_system(instructions, angle, distance):\n",
        "    \"\"\"Draw the L-System using turtle graphics.\n",
        "\n",
        "    Parameters:\n",
        "    - instructions: string of L-System commands\n",
        "    - angle: turning angle in degrees\n",
        "    - distance: forward movement distance\n",
        "    \"\"\"\n",
        "    stack = []\n",
        "\n",
        "\n",
        "    colors = ['green']\n",
        "    color_index = 0  # Start with the first color in the list\n",
        "    t.pencolor(colors[color_index])\n",
        "\n",
        "    for cmd in instructions:\n",
        "        if cmd == 'F':  # Move forward and draw\n",
        "            angle += 10\n",
        "            distance += .2\n",
        "            t.right(angle)\n",
        "            t.forward(distance)\n",
        "        elif cmd == 'f':  # Move forward without drawing\n",
        "            t.penup()\n",
        "            t.forward(distance)\n",
        "            distance += .2\n",
        "\n",
        "            color_index = (color_index + 1) % len(colors)  # Cycle through colors\n",
        "            t.pencolor(colors[color_index])\n",
        "\n",
        "            t.pendown()\n",
        "        elif cmd == '+':  # Turn right\n",
        "            t.right(angle)\n",
        "        elif cmd == '-':  # Turn left\n",
        "            t.left(angle)\n",
        "        elif cmd == '[':  # Save current state\n",
        "            stack.append((t.position(), t.heading()))\n",
        "        elif cmd == ']':  # Restore previous state\n",
        "            position, heading = stack.pop()\n",
        "            t.penup()\n",
        "            t.goto(position)\n",
        "            t.setheading(heading)\n",
        "            t.pendown()\n",
        "\n",
        "def setup_turtle():\n",
        "        t.initializeTurtle()\n",
        "        t.hideturtle()\n",
        "        t.speed(13)  # Fastest speed\n",
        "        t.penup()\n",
        "        t.goto(t.window_width() // 2, t.window_height()/2)  # Start position\n",
        "        t.pendown()"
      ]
    },
    {
      "cell_type": "code",
      "execution_count": 36,
      "metadata": {
        "colab": {
          "base_uri": "https://localhost:8080/",
          "height": 839
        },
        "id": "95YFW3XF4SsB",
        "outputId": "bc06af79-4d69-45f1-f732-ca8da8fc5ece"
      },
      "outputs": [
        {
          "output_type": "display_data",
          "data": {
            "text/plain": [
              "<IPython.core.display.HTML object>"
            ],
            "text/html": [
              "\n",
              "      <svg width=\"800\" height=\"500\">\n",
              "        <rect width=\"100%\" height=\"100%\" fill=\"black\"/>\n",
              "        <line x1=\"400\" y1=\"250.0\" x2=\"394.879\" y2=\"249.097\" stroke-linecap=\"round\" style=\"stroke:green;stroke-width:4\"/><line x1=\"394.879\" y1=\"249.097\" x2=\"392.179\" y2=\"244.42\" stroke-linecap=\"round\" style=\"stroke:green;stroke-width:4\"/><line x1=\"392.179\" y1=\"244.42\" x2=\"394.979\" y2=\"239.57\" stroke-linecap=\"round\" style=\"stroke:green;stroke-width:4\"/><line x1=\"394.979\" y1=\"239.57\" x2=\"396.963\" y2=\"245.02\" stroke-linecap=\"round\" style=\"stroke:green;stroke-width:4\"/><line x1=\"396.963\" y1=\"245.02\" x2=\"398.005\" y2=\"250.929\" stroke-linecap=\"round\" style=\"stroke:green;stroke-width:4\"/><line x1=\"398.005\" y1=\"250.929\" x2=\"391.899\" y2=\"252.006\" stroke-linecap=\"round\" style=\"stroke:green;stroke-width:4\"/><line x1=\"391.899\" y1=\"252.006\" x2=\"391.899\" y2=\"245.606\" stroke-linecap=\"round\" style=\"stroke:green;stroke-width:4\"/><line x1=\"391.899\" y1=\"245.606\" x2=\"388.599\" y2=\"251.322\" stroke-linecap=\"round\" style=\"stroke:green;stroke-width:4\"/><line x1=\"388.599\" y1=\"251.322\" x2=\"384.228\" y2=\"256.531\" stroke-linecap=\"round\" style=\"stroke:green;stroke-width:4\"/><line x1=\"384.228\" y1=\"256.531\" x2=\"383.012\" y2=\"249.637\" stroke-linecap=\"round\" style=\"stroke:green;stroke-width:4\"/><line x1=\"383.012\" y1=\"249.637\" x2=\"388.528\" y2=\"254.265\" stroke-linecap=\"round\" style=\"stroke:green;stroke-width:4\"/><line x1=\"388.528\" y1=\"254.265\" x2=\"394.937\" y2=\"250.565\" stroke-linecap=\"round\" style=\"stroke:green;stroke-width:4\"/><line x1=\"394.937\" y1=\"250.565\" x2=\"390.052\" y2=\"256.387\" stroke-linecap=\"round\" style=\"stroke:green;stroke-width:4\"/><line x1=\"390.052\" y1=\"256.387\" x2=\"393.952\" y2=\"249.632\" stroke-linecap=\"round\" style=\"stroke:green;stroke-width:4\"/><line x1=\"393.952\" y1=\"249.632\" x2=\"389.952\" y2=\"256.56\" stroke-linecap=\"round\" style=\"stroke:green;stroke-width:4\"/><line x1=\"389.952\" y1=\"256.56\" x2=\"384.681\" y2=\"262.842\" stroke-linecap=\"round\" style=\"stroke:green;stroke-width:4\"/><line x1=\"384.681\" y1=\"262.842\" x2=\"390.08\" y2=\"256.407\" stroke-linecap=\"round\" style=\"stroke:green;stroke-width:4\"/><line x1=\"390.08\" y1=\"256.407\" x2=\"381.999\" y2=\"259.348\" stroke-linecap=\"round\" style=\"stroke:green;stroke-width:4\"/><line x1=\"381.999\" y1=\"259.348\" x2=\"390.268\" y2=\"262.358\" stroke-linecap=\"round\" style=\"stroke:green;stroke-width:4\"/><line x1=\"390.268\" y1=\"262.358\" x2=\"387.19\" y2=\"270.815\" stroke-linecap=\"round\" style=\"stroke:green;stroke-width:4\"/><line x1=\"387.19\" y1=\"270.815\" x2=\"382.59\" y2=\"278.782\" stroke-linecap=\"round\" style=\"stroke:green;stroke-width:4\"/><line x1=\"382.59\" y1=\"278.782\" x2=\"391.847\" y2=\"280.414\" stroke-linecap=\"round\" style=\"stroke:green;stroke-width:4\"/><line x1=\"391.847\" y1=\"280.414\" x2=\"391.847\" y2=\"270.814\" stroke-linecap=\"round\" style=\"stroke:green;stroke-width:4\"/><line x1=\"391.847\" y1=\"270.814\" x2=\"393.549\" y2=\"280.465\" stroke-linecap=\"round\" style=\"stroke:green;stroke-width:4\"/><line x1=\"393.549\" y1=\"280.465\" x2=\"393.549\" y2=\"290.465\" stroke-linecap=\"round\" style=\"stroke:green;stroke-width:4\"/><line x1=\"393.549\" y1=\"290.465\" x2=\"403.134\" y2=\"293.954\" stroke-linecap=\"round\" style=\"stroke:green;stroke-width:4\"/><line x1=\"403.134\" y1=\"293.954\" x2=\"411.101\" y2=\"287.269\" stroke-linecap=\"round\" style=\"stroke:green;stroke-width:4\"/><line x1=\"411.101\" y1=\"287.269\" x2=\"401.921\" y2=\"281.969\" stroke-linecap=\"round\" style=\"stroke:green;stroke-width:4\"/><line x1=\"401.921\" y1=\"281.969\" x2=\"391.285\" y2=\"283.844\" stroke-linecap=\"round\" style=\"stroke:green;stroke-width:4\"/><line x1=\"391.285\" y1=\"283.844\" x2=\"382.859\" y2=\"290.915\" stroke-linecap=\"round\" style=\"stroke:green;stroke-width:4\"/><line x1=\"382.859\" y1=\"290.915\" x2=\"377.259\" y2=\"300.614\" stroke-linecap=\"round\" style=\"stroke:green;stroke-width:4\"/><line x1=\"377.259\" y1=\"300.614\" x2=\"377.259\" y2=\"312.014\" stroke-linecap=\"round\" style=\"stroke:green;stroke-width:4\"/><line x1=\"377.259\" y1=\"312.014\" x2=\"373.292\" y2=\"322.914\" stroke-linecap=\"round\" style=\"stroke:green;stroke-width:4\"/><line x1=\"373.292\" y1=\"322.914\" x2=\"367.392\" y2=\"333.133\" stroke-linecap=\"round\" style=\"stroke:green;stroke-width:4\"/><line x1=\"367.392\" y1=\"333.133\" x2=\"358.199\" y2=\"340.846\" stroke-linecap=\"round\" style=\"stroke:green;stroke-width:4\"/><line x1=\"358.199\" y1=\"340.846\" x2=\"346.184\" y2=\"338.727\" stroke-linecap=\"round\" style=\"stroke:green;stroke-width:4\"/><line x1=\"346.184\" y1=\"338.727\" x2=\"334.532\" y2=\"334.486\" stroke-linecap=\"round\" style=\"stroke:green;stroke-width:4\"/><line x1=\"334.532\" y1=\"334.486\" x2=\"330.223\" y2=\"322.646\" stroke-linecap=\"round\" style=\"stroke:green;stroke-width:4\"/><line x1=\"330.223\" y1=\"322.646\" x2=\"338.451\" y2=\"312.841\" stroke-linecap=\"round\" style=\"stroke:green;stroke-width:4\"/><line x1=\"338.451\" y1=\"312.841\" x2=\"340.708\" y2=\"325.644\" stroke-linecap=\"round\" style=\"stroke:green;stroke-width:4\"/><line x1=\"340.708\" y1=\"325.644\" x2=\"340.708\" y2=\"338.844\" stroke-linecap=\"round\" style=\"stroke:green;stroke-width:4\"/><line x1=\"340.708\" y1=\"338.844\" x2=\"327.308\" y2=\"338.844\" stroke-linecap=\"round\" style=\"stroke:green;stroke-width:4\"/><line x1=\"327.308\" y1=\"338.844\" x2=\"329.67\" y2=\"325.451\" stroke-linecap=\"round\" style=\"stroke:green;stroke-width:4\"/><line x1=\"329.67\" y1=\"325.451\" x2=\"320.8\" y2=\"336.022\" stroke-linecap=\"round\" style=\"stroke:green;stroke-width:4\"/><line x1=\"320.8\" y1=\"336.022\" x2=\"316.012\" y2=\"322.866\" stroke-linecap=\"round\" style=\"stroke:green;stroke-width:4\"/><line x1=\"316.012\" y1=\"322.866\" x2=\"329.356\" y2=\"327.723\" stroke-linecap=\"round\" style=\"stroke:green;stroke-width:4\"/><line x1=\"329.356\" y1=\"327.723\" x2=\"315.824\" y2=\"332.648\" stroke-linecap=\"round\" style=\"stroke:green;stroke-width:4\"/><line x1=\"315.824\" y1=\"332.648\" x2=\"315.824\" y2=\"347.248\" stroke-linecap=\"round\" style=\"stroke:green;stroke-width:4\"/><line x1=\"315.824\" y1=\"347.248\" x2=\"313.254\" y2=\"361.823\" stroke-linecap=\"round\" style=\"stroke:green;stroke-width:4\"/><line x1=\"313.254\" y1=\"361.823\" x2=\"313.254\" y2=\"346.823\" stroke-linecap=\"round\" style=\"stroke:green;stroke-width:4\"/><line x1=\"313.254\" y1=\"346.823\" x2=\"313.254\" y2=\"362.023\" stroke-linecap=\"round\" style=\"stroke:green;stroke-width:4\"/><line x1=\"313.254\" y1=\"362.023\" x2=\"310.58\" y2=\"377.189\" stroke-linecap=\"round\" style=\"stroke:green;stroke-width:4\"/><line x1=\"310.58\" y1=\"377.189\" x2=\"305.244\" y2=\"391.848\" stroke-linecap=\"round\" style=\"stroke:green;stroke-width:4\"/><line x1=\"305.244\" y1=\"391.848\" x2=\"317.348\" y2=\"381.692\" stroke-linecap=\"round\" style=\"stroke:green;stroke-width:4\"/><line x1=\"317.348\" y1=\"381.692\" x2=\"301.348\" y2=\"381.692\" stroke-linecap=\"round\" style=\"stroke:green;stroke-width:4\"/><line x1=\"301.348\" y1=\"381.692\" x2=\"301.348\" y2=\"365.492\" stroke-linecap=\"round\" style=\"stroke:green;stroke-width:4\"/><line x1=\"301.348\" y1=\"365.492\" x2=\"304.196\" y2=\"349.341\" stroke-linecap=\"round\" style=\"stroke:green;stroke-width:4\"/><line x1=\"304.196\" y1=\"349.341\" x2=\"287.848\" y2=\"352.224\" stroke-linecap=\"round\" style=\"stroke:green;stroke-width:4\"/><line x1=\"287.848\" y1=\"352.224\" x2=\"293.594\" y2=\"368.011\" stroke-linecap=\"round\" style=\"stroke:green;stroke-width:4\"/><line x1=\"293.594\" y1=\"368.011\" x2=\"285.094\" y2=\"353.289\" stroke-linecap=\"round\" style=\"stroke:green;stroke-width:4\"/><line x1=\"285.094\" y1=\"353.289\" x2=\"268.931\" y2=\"359.172\" stroke-linecap=\"round\" style=\"stroke:green;stroke-width:4\"/><line x1=\"268.931\" y1=\"359.172\" x2=\"268.931\" y2=\"376.572\" stroke-linecap=\"round\" style=\"stroke:green;stroke-width:4\"/><line x1=\"268.931\" y1=\"376.572\" x2=\"284.173\" y2=\"385.372\" stroke-linecap=\"round\" style=\"stroke:green;stroke-width:4\"/><line x1=\"284.173\" y1=\"385.372\" x2=\"287.264\" y2=\"367.842\" stroke-linecap=\"round\" style=\"stroke:green;stroke-width:4\"/><line x1=\"287.264\" y1=\"367.842\" x2=\"302.852\" y2=\"376.842\" stroke-linecap=\"round\" style=\"stroke:green;stroke-width:4\"/><line x1=\"302.852\" y1=\"376.842\" x2=\"321.052\" y2=\"376.842\" stroke-linecap=\"round\" style=\"stroke:green;stroke-width:4\"/><line x1=\"321.052\" y1=\"376.842\" x2=\"338.342\" y2=\"370.549\" stroke-linecap=\"round\" style=\"stroke:green;stroke-width:4\"/><line x1=\"338.342\" y1=\"370.549\" x2=\"350.298\" y2=\"356.301\" stroke-linecap=\"round\" style=\"stroke:green;stroke-width:4\"/><line x1=\"350.298\" y1=\"356.301\" x2=\"364.7\" y2=\"344.217\" stroke-linecap=\"round\" style=\"stroke:green;stroke-width:4\"/><line x1=\"364.7\" y1=\"344.217\" x2=\"381.154\" y2=\"334.717\" stroke-linecap=\"round\" style=\"stroke:green;stroke-width:4\"/><line x1=\"381.154\" y1=\"334.717\" x2=\"400.062\" y2=\"331.383\" stroke-linecap=\"round\" style=\"stroke:green;stroke-width:4\"/><line x1=\"400.062\" y1=\"331.383\" x2=\"414.923\" y2=\"343.853\" stroke-linecap=\"round\" style=\"stroke:green;stroke-width:4\"/><line x1=\"414.923\" y1=\"343.853\" x2=\"427.522\" y2=\"358.867\" stroke-linecap=\"round\" style=\"stroke:green;stroke-width:4\"/><line x1=\"427.522\" y1=\"358.867\" x2=\"424.084\" y2=\"378.366\" stroke-linecap=\"round\" style=\"stroke:green;stroke-width:4\"/><line x1=\"424.084\" y1=\"378.366\" x2=\"405.29\" y2=\"385.206\" stroke-linecap=\"round\" style=\"stroke:green;stroke-width:4\"/><line x1=\"405.29\" y1=\"385.206\" x2=\"412.199\" y2=\"366.224\" stroke-linecap=\"round\" style=\"stroke:green;stroke-width:4\"/><line x1=\"412.199\" y1=\"366.224\" x2=\"432.289\" y2=\"369.766\" stroke-linecap=\"round\" style=\"stroke:green;stroke-width:4\"/><line x1=\"432.289\" y1=\"369.766\" x2=\"428.712\" y2=\"390.053\" stroke-linecap=\"round\" style=\"stroke:green;stroke-width:4\"/><line x1=\"428.712\" y1=\"390.053\" x2=\"409.166\" y2=\"382.939\" stroke-linecap=\"round\" style=\"stroke:green;stroke-width:4\"/><line x1=\"409.166\" y1=\"382.939\" x2=\"422.665\" y2=\"399.026\" stroke-linecap=\"round\" style=\"stroke:green;stroke-width:4\"/><line x1=\"422.665\" y1=\"399.026\" x2=\"436.292\" y2=\"382.786\" stroke-linecap=\"round\" style=\"stroke:green;stroke-width:4\"/><line x1=\"436.292\" y1=\"382.786\" x2=\"440.008\" y2=\"403.861\" stroke-linecap=\"round\" style=\"stroke:green;stroke-width:4\"/><line x1=\"440.008\" y1=\"403.861\" x2=\"423.461\" y2=\"389.977\" stroke-linecap=\"round\" style=\"stroke:green;stroke-width:4\"/><line x1=\"423.461\" y1=\"389.977\" x2=\"404.582\" y2=\"400.877\" stroke-linecap=\"round\" style=\"stroke:green;stroke-width:4\"/><line x1=\"404.582\" y1=\"400.877\" x2=\"383.909\" y2=\"408.401\" stroke-linecap=\"round\" style=\"stroke:green;stroke-width:4\"/><line x1=\"383.909\" y1=\"408.401\" x2=\"403.135\" y2=\"397.301\" stroke-linecap=\"round\" style=\"stroke:green;stroke-width:4\"/><line x1=\"403.135\" y1=\"397.301\" x2=\"383.736\" y2=\"408.501\" stroke-linecap=\"round\" style=\"stroke:green;stroke-width:4\"/><line x1=\"383.736\" y1=\"408.501\" x2=\"362.499\" y2=\"416.231\" stroke-linecap=\"round\" style=\"stroke:green;stroke-width:4\"/><line x1=\"362.499\" y1=\"416.231\" x2=\"340.045\" y2=\"420.19\" stroke-linecap=\"round\" style=\"stroke:green;stroke-width:4\"/><line x1=\"340.045\" y1=\"420.19\" x2=\"361.658\" y2=\"428.056\" stroke-linecap=\"round\" style=\"stroke:green;stroke-width:4\"/><line x1=\"361.658\" y1=\"428.056\" x2=\"350.058\" y2=\"407.964\" stroke-linecap=\"round\" style=\"stroke:green;stroke-width:4\"/><line x1=\"350.058\" y1=\"407.964\" x2=\"370.323\" y2=\"396.264\" stroke-linecap=\"round\" style=\"stroke:green;stroke-width:4\"/><line x1=\"370.323\" y1=\"396.264\" x2=\"349.885\" y2=\"384.464\" stroke-linecap=\"round\" style=\"stroke:green;stroke-width:4\"/><line x1=\"349.885\" y1=\"384.464\" x2=\"345.752\" y2=\"407.902\" stroke-linecap=\"round\" style=\"stroke:green;stroke-width:4\"/><line x1=\"345.752\" y1=\"407.902\" x2=\"369.752\" y2=\"407.902\" stroke-linecap=\"round\" style=\"stroke:green;stroke-width:4\"/><line x1=\"369.752\" y1=\"407.902\" x2=\"345.92\" y2=\"412.104\" stroke-linecap=\"round\" style=\"stroke:green;stroke-width:4\"/><line x1=\"345.92\" y1=\"412.104\" x2=\"345.92\" y2=\"387.704\" stroke-linecap=\"round\" style=\"stroke:green;stroke-width:4\"/><line x1=\"345.92\" y1=\"387.704\" x2=\"322.804\" y2=\"379.29\" stroke-linecap=\"round\" style=\"stroke:green;stroke-width:4\"/><line x1=\"322.804\" y1=\"379.29\" x2=\"303.806\" y2=\"395.231\" stroke-linecap=\"round\" style=\"stroke:green;stroke-width:4\"/><line x1=\"303.806\" y1=\"395.231\" x2=\"325.457\" y2=\"407.731\" stroke-linecap=\"round\" style=\"stroke:green;stroke-width:4\"/><line x1=\"325.457\" y1=\"407.731\" x2=\"344.761\" y2=\"423.929\" stroke-linecap=\"round\" style=\"stroke:green;stroke-width:4\"/><line x1=\"344.761\" y1=\"423.929\" x2=\"369.775\" y2=\"428.34\" stroke-linecap=\"round\" style=\"stroke:green;stroke-width:4\"/><line x1=\"369.775\" y1=\"428.34\" x2=\"394.986\" y2=\"423.895\" stroke-linecap=\"round\" style=\"stroke:green;stroke-width:4\"/><line x1=\"394.986\" y1=\"423.895\" x2=\"414.75\" y2=\"407.311\" stroke-linecap=\"round\" style=\"stroke:green;stroke-width:4\"/><line x1=\"414.75\" y1=\"407.311\" x2=\"437.267\" y2=\"394.311\" stroke-linecap=\"round\" style=\"stroke:green;stroke-width:4\"/><line x1=\"437.267\" y1=\"394.311\" x2=\"461.887\" y2=\"385.35\" stroke-linecap=\"round\" style=\"stroke:green;stroke-width:4\"/><line x1=\"461.887\" y1=\"385.35\" x2=\"488.287\" y2=\"385.35\" stroke-linecap=\"round\" style=\"stroke:green;stroke-width:4\"/><line x1=\"488.287\" y1=\"385.35\" x2=\"505.385\" y2=\"405.727\" stroke-linecap=\"round\" style=\"stroke:green;stroke-width:4\"/><line x1=\"505.385\" y1=\"405.727\" x2=\"505.385\" y2=\"432.527\" stroke-linecap=\"round\" style=\"stroke:green;stroke-width:4\"/><line x1=\"505.385\" y1=\"432.527\" x2=\"484.702\" y2=\"449.882\" stroke-linecap=\"round\" style=\"stroke:green;stroke-width:4\"/><line x1=\"484.702\" y1=\"449.882\" x2=\"459.142\" y2=\"440.579\" stroke-linecap=\"round\" style=\"stroke:green;stroke-width:4\"/><line x1=\"459.142\" y1=\"440.579\" x2=\"482.871\" y2=\"426.879\" stroke-linecap=\"round\" style=\"stroke:green;stroke-width:4\"/><line x1=\"482.871\" y1=\"426.879\" x2=\"508.807\" y2=\"417.439\" stroke-linecap=\"round\" style=\"stroke:green;stroke-width:4\"/><line x1=\"508.807\" y1=\"417.439\" x2=\"518.315\" y2=\"443.562\" stroke-linecap=\"round\" style=\"stroke:green;stroke-width:4\"/><line x1=\"518.315\" y1=\"443.562\" x2=\"490.74\" y2=\"448.424\" stroke-linecap=\"round\" style=\"stroke:green;stroke-width:4\"/><line x1=\"490.74\" y1=\"448.424\" x2=\"517.239\" y2=\"458.069\" stroke-linecap=\"round\" style=\"stroke:green;stroke-width:4\"/><line x1=\"517.239\" y1=\"458.069\" x2=\"541.834\" y2=\"472.269\" stroke-linecap=\"round\" style=\"stroke:green;stroke-width:4\"/><line x1=\"541.834\" y1=\"472.269\" x2=\"514.959\" y2=\"482.051\" stroke-linecap=\"round\" style=\"stroke:green;stroke-width:4\"/><line x1=\"514.959\" y1=\"482.051\" x2=\"529.359\" y2=\"457.109\" stroke-linecap=\"round\" style=\"stroke:green;stroke-width:4\"/><line x1=\"529.359\" y1=\"457.109\" x2=\"510.718\" y2=\"434.894\" stroke-linecap=\"round\" style=\"stroke:green;stroke-width:4\"/><line x1=\"510.718\" y1=\"434.894\" x2=\"496.118\" y2=\"409.606\" stroke-linecap=\"round\" style=\"stroke:green;stroke-width:4\"/><line x1=\"496.118\" y1=\"409.606\" x2=\"515.016\" y2=\"432.128\" stroke-linecap=\"round\" style=\"stroke:green;stroke-width:4\"/><line x1=\"515.016\" y1=\"432.128\" x2=\"495.989\" y2=\"409.453\" stroke-linecap=\"round\" style=\"stroke:green;stroke-width:4\"/><line x1=\"495.989\" y1=\"409.453\" x2=\"481.089\" y2=\"383.645\" stroke-linecap=\"round\" style=\"stroke:green;stroke-width:4\"/><line x1=\"481.089\" y1=\"383.645\" x2=\"486.298\" y2=\"413.189\" stroke-linecap=\"round\" style=\"stroke:green;stroke-width:4\"/><line x1=\"486.298\" y1=\"413.189\" x2=\"496.627\" y2=\"384.81\" stroke-linecap=\"round\" style=\"stroke:green;stroke-width:4\"/><line x1=\"496.627\" y1=\"384.81\" x2=\"470.3\" y2=\"400.01\" stroke-linecap=\"round\" style=\"stroke:green;stroke-width:4\"/><line x1=\"470.3\" y1=\"400.01\" x2=\"455.0\" y2=\"373.51\" stroke-linecap=\"round\" style=\"stroke:green;stroke-width:4\"/><line x1=\"455.0\" y1=\"373.51\" x2=\"428.326\" y2=\"388.91\" stroke-linecap=\"round\" style=\"stroke:green;stroke-width:4\"/><line x1=\"428.326\" y1=\"388.91\" x2=\"452.073\" y2=\"408.836\" stroke-linecap=\"round\" style=\"stroke:green;stroke-width:4\"/><line x1=\"452.073\" y1=\"408.836\" x2=\"467.673\" y2=\"381.816\" stroke-linecap=\"round\" style=\"stroke:green;stroke-width:4\"/><line x1=\"467.673\" y1=\"381.816\" x2=\"456.934\" y2=\"411.322\" stroke-linecap=\"round\" style=\"stroke:green;stroke-width:4\"/><line x1=\"456.934\" y1=\"411.322\" x2=\"441.134\" y2=\"438.688\" stroke-linecap=\"round\" style=\"stroke:green;stroke-width:4\"/><line x1=\"441.134\" y1=\"438.688\" x2=\"461.575\" y2=\"463.048\" stroke-linecap=\"round\" style=\"stroke:green;stroke-width:4\"/><line x1=\"461.575\" y1=\"463.048\" x2=\"493.089\" y2=\"457.491\" stroke-linecap=\"round\" style=\"stroke:green;stroke-width:4\"/><line x1=\"493.089\" y1=\"457.491\" x2=\"476.989\" y2=\"429.605\" stroke-linecap=\"round\" style=\"stroke:green;stroke-width:4\"/><line x1=\"476.989\" y1=\"429.605\" x2=\"465.908\" y2=\"399.159\" stroke-linecap=\"round\" style=\"stroke:green;stroke-width:4\"/><line x1=\"465.908\" y1=\"399.159\" x2=\"440.935\" y2=\"378.204\" stroke-linecap=\"round\" style=\"stroke:green;stroke-width:4\"/><line x1=\"440.935\" y1=\"378.204\" x2=\"410.113\" y2=\"366.986\" stroke-linecap=\"round\" style=\"stroke:green;stroke-width:4\"/><line x1=\"410.113\" y1=\"366.986\" x2=\"377.614\" y2=\"372.716\" stroke-linecap=\"round\" style=\"stroke:green;stroke-width:4\"/><line x1=\"377.614\" y1=\"372.716\" x2=\"344.918\" y2=\"378.481\" stroke-linecap=\"round\" style=\"stroke:green;stroke-width:4\"/><line x1=\"344.918\" y1=\"378.481\" x2=\"311.518\" y2=\"378.481\" stroke-linecap=\"round\" style=\"stroke:green;stroke-width:4\"/><line x1=\"311.518\" y1=\"378.481\" x2=\"279.944\" y2=\"366.989\" stroke-linecap=\"round\" style=\"stroke:green;stroke-width:4\"/><line x1=\"279.944\" y1=\"366.989\" x2=\"268.384\" y2=\"335.227\" stroke-linecap=\"round\" style=\"stroke:green;stroke-width:4\"/><line x1=\"268.384\" y1=\"335.227\" x2=\"246.529\" y2=\"309.181\" stroke-linecap=\"round\" style=\"stroke:green;stroke-width:4\"/><line x1=\"246.529\" y1=\"309.181\" x2=\"252.468\" y2=\"275.501\" stroke-linecap=\"round\" style=\"stroke:green;stroke-width:4\"/><line x1=\"252.468\" y1=\"275.501\" x2=\"284.793\" y2=\"263.736\" stroke-linecap=\"round\" style=\"stroke:green;stroke-width:4\"/><line x1=\"284.793\" y1=\"263.736\" x2=\"272.959\" y2=\"296.249\" stroke-linecap=\"round\" style=\"stroke:green;stroke-width:4\"/><line x1=\"272.959\" y1=\"296.249\" x2=\"255.559\" y2=\"326.387\" stroke-linecap=\"round\" style=\"stroke:green;stroke-width:4\"/><line x1=\"255.559\" y1=\"326.387\" x2=\"225.248\" y2=\"308.887\" stroke-linecap=\"round\" style=\"stroke:green;stroke-width:4\"/><line x1=\"225.248\" y1=\"308.887\" x2=\"247.874\" y2=\"281.922\" stroke-linecap=\"round\" style=\"stroke:green;stroke-width:4\"/><line x1=\"247.874\" y1=\"281.922\" x2=\"214.609\" y2=\"294.03\" stroke-linecap=\"round\" style=\"stroke:green;stroke-width:4\"/><line x1=\"214.609\" y1=\"294.03\" x2=\"179.55\" y2=\"300.212\" stroke-linecap=\"round\" style=\"stroke:green;stroke-width:4\"/><line x1=\"179.55\" y1=\"300.212\" x2=\"197.45\" y2=\"269.208\" stroke-linecap=\"round\" style=\"stroke:green;stroke-width:4\"/><line x1=\"197.45\" y1=\"269.208\" x2=\"203.701\" y2=\"304.661\" stroke-linecap=\"round\" style=\"stroke:green;stroke-width:4\"/><line x1=\"203.701\" y1=\"304.661\" x2=\"239.351\" y2=\"310.947\" stroke-linecap=\"round\" style=\"stroke:green;stroke-width:4\"/><line x1=\"239.351\" y1=\"310.947\" x2=\"203.504\" y2=\"317.268\" stroke-linecap=\"round\" style=\"stroke:green;stroke-width:4\"/><line x1=\"203.504\" y1=\"317.268\" x2=\"237.897\" y2=\"304.75\" stroke-linecap=\"round\" style=\"stroke:green;stroke-width:4\"/><line x1=\"237.897\" y1=\"304.75\" x2=\"203.316\" y2=\"317.336\" stroke-linecap=\"round\" style=\"stroke:green;stroke-width:4\"/><line x1=\"203.316\" y1=\"317.336\" x2=\"166.878\" y2=\"323.761\" stroke-linecap=\"round\" style=\"stroke:green;stroke-width:4\"/><line x1=\"166.878\" y1=\"323.761\" x2=\"203.513\" y2=\"317.301\" stroke-linecap=\"round\" style=\"stroke:green;stroke-width:4\"/><line x1=\"203.513\" y1=\"317.301\" x2=\"168.368\" y2=\"304.509\" stroke-linecap=\"round\" style=\"stroke:green;stroke-width:4\"/><line x1=\"168.368\" y1=\"304.509\" x2=\"187.168\" y2=\"337.072\" stroke-linecap=\"round\" style=\"stroke:green;stroke-width:4\"/><line x1=\"187.168\" y1=\"337.072\" x2=\"154.432\" y2=\"355.972\" stroke-linecap=\"round\" style=\"stroke:green;stroke-width:4\"/><line x1=\"154.432\" y1=\"355.972\" x2=\"118.724\" y2=\"368.969\" stroke-linecap=\"round\" style=\"stroke:green;stroke-width:4\"/><line x1=\"118.724\" y1=\"368.969\" x2=\"143.278\" y2=\"398.232\" stroke-linecap=\"round\" style=\"stroke:green;stroke-width:4\"/><line x1=\"143.278\" y1=\"398.232\" x2=\"167.961\" y2=\"368.816\" stroke-linecap=\"round\" style=\"stroke:green;stroke-width:4\"/><line x1=\"167.961\" y1=\"368.816\" x2=\"148.661\" y2=\"402.245\" stroke-linecap=\"round\" style=\"stroke:green;stroke-width:4\"/><line x1=\"148.661\" y1=\"402.245\" x2=\"123.721\" y2=\"431.968\" stroke-linecap=\"round\" style=\"stroke:green;stroke-width:4\"/><line x1=\"123.721\" y1=\"431.968\" x2=\"143.221\" y2=\"465.743\" stroke-linecap=\"round\" style=\"stroke:green;stroke-width:4\"/><line x1=\"143.221\" y1=\"465.743\" x2=\"182.421\" y2=\"465.743\" stroke-linecap=\"round\" style=\"stroke:green;stroke-width:4\"/><line x1=\"182.421\" y1=\"465.743\" x2=\"168.945\" y2=\"428.719\" stroke-linecap=\"round\" style=\"stroke:green;stroke-width:4\"/><line x1=\"168.945\" y1=\"428.719\" x2=\"134.65\" y2=\"408.919\" stroke-linecap=\"round\" style=\"stroke:green;stroke-width:4\"/><line x1=\"134.65\" y1=\"408.919\" x2=\"94.85\" y2=\"408.919\" stroke-linecap=\"round\" style=\"stroke:green;stroke-width:4\"/><line x1=\"94.85\" y1=\"408.919\" x2=\"57.262\" y2=\"422.6\" stroke-linecap=\"round\" style=\"stroke:green;stroke-width:4\"/><line x1=\"57.262\" y1=\"422.6\" x2=\"31.422\" y2=\"453.395\" stroke-linecap=\"round\" style=\"stroke:green;stroke-width:4\"/><line x1=\"31.422\" y1=\"453.395\" x2=\"0.474\" y2=\"479.364\" stroke-linecap=\"round\" style=\"stroke:green;stroke-width:4\"/><line x1=\"0.474\" y1=\"479.364\" x2=\"-34.687\" y2=\"499.664\" stroke-linecap=\"round\" style=\"stroke:green;stroke-width:4\"/><line x1=\"-34.687\" y1=\"499.664\" x2=\"-74.867\" y2=\"506.749\" stroke-linecap=\"round\" style=\"stroke:green;stroke-width:4\"/><line x1=\"-74.867\" y1=\"506.749\" x2=\"-106.275\" y2=\"480.395\" stroke-linecap=\"round\" style=\"stroke:green;stroke-width:4\"/>\n",
              "        <g visibility=hidden transform=\"rotate(310,-106.275,480.395) translate(-124.275, 462.395)\">\n",
              "<path style=\" stroke:none;fill-rule:evenodd;fill:green;fill-opacity:1;\" d=\"M 18.214844 0.632812 C 16.109375 1.800781 15.011719 4.074219 15.074219 7.132812 L 15.085938 7.652344 L 14.785156 7.496094 C 13.476562 6.824219 11.957031 6.671875 10.40625 7.066406 C 8.46875 7.550781 6.515625 9.15625 4.394531 11.992188 C 3.0625 13.777344 2.679688 14.636719 3.042969 15.027344 L 3.15625 15.152344 L 3.519531 15.152344 C 4.238281 15.152344 4.828125 14.886719 8.1875 13.039062 C 9.386719 12.378906 10.371094 11.839844 10.378906 11.839844 C 10.386719 11.839844 10.355469 11.929688 10.304688 12.035156 C 9.832031 13.09375 9.257812 14.820312 8.96875 16.078125 C 7.914062 20.652344 8.617188 24.53125 11.070312 27.660156 C 11.351562 28.015625 11.363281 27.914062 10.972656 28.382812 C 8.925781 30.84375 7.945312 33.28125 8.238281 35.1875 C 8.289062 35.527344 8.28125 35.523438 8.917969 35.523438 C 10.941406 35.523438 13.074219 34.207031 15.136719 31.6875 C 15.359375 31.417969 15.328125 31.425781 15.5625 31.574219 C 16.292969 32.042969 18.023438 32.964844 18.175781 32.964844 C 18.335938 32.964844 19.941406 32.210938 20.828125 31.71875 C 20.996094 31.625 21.136719 31.554688 21.136719 31.558594 C 21.203125 31.664062 21.898438 32.414062 22.222656 32.730469 C 23.835938 34.300781 25.5625 35.132812 27.582031 35.300781 C 27.90625 35.328125 27.9375 35.308594 28.007812 34.984375 C 28.382812 33.242188 27.625 30.925781 25.863281 28.425781 L 25.542969 27.96875 L 25.699219 27.785156 C 28.945312 23.960938 29.132812 18.699219 26.257812 11.96875 L 26.207031 11.84375 L 27.945312 12.703125 C 31.53125 14.476562 32.316406 14.800781 33.03125 14.800781 C 33.976562 14.800781 33.78125 13.9375 32.472656 12.292969 C 28.519531 7.355469 25.394531 5.925781 21.921875 7.472656 L 21.558594 7.636719 L 21.578125 7.542969 C 21.699219 6.992188 21.761719 5.742188 21.699219 5.164062 C 21.496094 3.296875 20.664062 1.964844 19.003906 0.855469 C 18.480469 0.503906 18.457031 0.5 18.214844 0.632812\"/>\n",
              "</g>\n",
              "      </svg>\n",
              "    "
            ]
          },
          "metadata": {}
        },
        {
          "output_type": "error",
          "ename": "ValueError",
          "evalue": "new x position must be non-negative",
          "traceback": [
            "\u001b[0;31m---------------------------------------------------------------------------\u001b[0m",
            "\u001b[0;31mValueError\u001b[0m                                Traceback (most recent call last)",
            "\u001b[0;32m<ipython-input-36-bf95e3c574ad>\u001b[0m in \u001b[0;36m<cell line: 0>\u001b[0;34m()\u001b[0m\n\u001b[1;32m      9\u001b[0m \u001b[0msetup_turtle\u001b[0m\u001b[0;34m(\u001b[0m\u001b[0;34m)\u001b[0m\u001b[0;34m\u001b[0m\u001b[0;34m\u001b[0m\u001b[0m\n\u001b[1;32m     10\u001b[0m \u001b[0mtree_instructions\u001b[0m \u001b[0;34m=\u001b[0m \u001b[0mcreate_l_system\u001b[0m\u001b[0;34m(\u001b[0m\u001b[0mtree_iterations\u001b[0m\u001b[0;34m,\u001b[0m \u001b[0mtree_axiom\u001b[0m\u001b[0;34m,\u001b[0m \u001b[0mtree_rules\u001b[0m\u001b[0;34m)\u001b[0m\u001b[0;34m\u001b[0m\u001b[0;34m\u001b[0m\u001b[0m\n\u001b[0;32m---> 11\u001b[0;31m \u001b[0mdraw_l_system\u001b[0m\u001b[0;34m(\u001b[0m\u001b[0mtree_instructions\u001b[0m\u001b[0;34m,\u001b[0m \u001b[0mtree_angle\u001b[0m\u001b[0;34m,\u001b[0m \u001b[0;36m5\u001b[0m\u001b[0;34m)\u001b[0m\u001b[0;34m\u001b[0m\u001b[0;34m\u001b[0m\u001b[0m\n\u001b[0m",
            "\u001b[0;32m<ipython-input-35-c0d7371134b0>\u001b[0m in \u001b[0;36mdraw_l_system\u001b[0;34m(instructions, angle, distance)\u001b[0m\n\u001b[1;32m     38\u001b[0m             \u001b[0mposition\u001b[0m\u001b[0;34m,\u001b[0m \u001b[0mheading\u001b[0m \u001b[0;34m=\u001b[0m \u001b[0mstack\u001b[0m\u001b[0;34m.\u001b[0m\u001b[0mpop\u001b[0m\u001b[0;34m(\u001b[0m\u001b[0;34m)\u001b[0m\u001b[0;34m\u001b[0m\u001b[0;34m\u001b[0m\u001b[0m\n\u001b[1;32m     39\u001b[0m             \u001b[0mt\u001b[0m\u001b[0;34m.\u001b[0m\u001b[0mpenup\u001b[0m\u001b[0;34m(\u001b[0m\u001b[0;34m)\u001b[0m\u001b[0;34m\u001b[0m\u001b[0;34m\u001b[0m\u001b[0m\n\u001b[0;32m---> 40\u001b[0;31m             \u001b[0mt\u001b[0m\u001b[0;34m.\u001b[0m\u001b[0mgoto\u001b[0m\u001b[0;34m(\u001b[0m\u001b[0mposition\u001b[0m\u001b[0;34m)\u001b[0m\u001b[0;34m\u001b[0m\u001b[0;34m\u001b[0m\u001b[0m\n\u001b[0m\u001b[1;32m     41\u001b[0m             \u001b[0mt\u001b[0m\u001b[0;34m.\u001b[0m\u001b[0msetheading\u001b[0m\u001b[0;34m(\u001b[0m\u001b[0mheading\u001b[0m\u001b[0;34m)\u001b[0m\u001b[0;34m\u001b[0m\u001b[0;34m\u001b[0m\u001b[0m\n\u001b[1;32m     42\u001b[0m             \u001b[0mt\u001b[0m\u001b[0;34m.\u001b[0m\u001b[0mpendown\u001b[0m\u001b[0;34m(\u001b[0m\u001b[0;34m)\u001b[0m\u001b[0;34m\u001b[0m\u001b[0;34m\u001b[0m\u001b[0m\n",
            "\u001b[0;32m/usr/local/lib/python3.11/dist-packages/ColabTurtle/Turtle.py\u001b[0m in \u001b[0;36mgoto\u001b[0;34m(x, y)\u001b[0m\n\u001b[1;32m    319\u001b[0m         \u001b[0;32mraise\u001b[0m \u001b[0mValueError\u001b[0m\u001b[0;34m(\u001b[0m\u001b[0;34m'new x position must be a number.'\u001b[0m\u001b[0;34m)\u001b[0m\u001b[0;34m\u001b[0m\u001b[0;34m\u001b[0m\u001b[0m\n\u001b[1;32m    320\u001b[0m     \u001b[0;32mif\u001b[0m \u001b[0mx\u001b[0m \u001b[0;34m<\u001b[0m \u001b[0;36m0\u001b[0m\u001b[0;34m:\u001b[0m\u001b[0;34m\u001b[0m\u001b[0;34m\u001b[0m\u001b[0m\n\u001b[0;32m--> 321\u001b[0;31m         \u001b[0;32mraise\u001b[0m \u001b[0mValueError\u001b[0m\u001b[0;34m(\u001b[0m\u001b[0;34m'new x position must be non-negative'\u001b[0m\u001b[0;34m)\u001b[0m\u001b[0;34m\u001b[0m\u001b[0;34m\u001b[0m\u001b[0m\n\u001b[0m\u001b[1;32m    322\u001b[0m     \u001b[0;32mif\u001b[0m \u001b[0;32mnot\u001b[0m \u001b[0misinstance\u001b[0m\u001b[0;34m(\u001b[0m\u001b[0my\u001b[0m\u001b[0;34m,\u001b[0m \u001b[0;34m(\u001b[0m\u001b[0mint\u001b[0m\u001b[0;34m,\u001b[0m\u001b[0mfloat\u001b[0m\u001b[0;34m)\u001b[0m\u001b[0;34m)\u001b[0m\u001b[0;34m:\u001b[0m\u001b[0;34m\u001b[0m\u001b[0;34m\u001b[0m\u001b[0m\n\u001b[1;32m    323\u001b[0m         \u001b[0;32mraise\u001b[0m \u001b[0mValueError\u001b[0m\u001b[0;34m(\u001b[0m\u001b[0;34m'new y position must be a number.'\u001b[0m\u001b[0;34m)\u001b[0m\u001b[0;34m\u001b[0m\u001b[0;34m\u001b[0m\u001b[0m\n",
            "\u001b[0;31mValueError\u001b[0m: new x position must be non-negative"
          ]
        }
      ],
      "source": [
        "# Your fractal tree parameters\n",
        "tree_axiom = \"F\"  # Start with a single trunk\n",
        "#tree_rules = {\"F\": \"fF[+F]F[-F]F\"}  # branching rule\n",
        "tree_rules = {\"F\": \"-FFF+F[]\"}  # branching rule\n",
        "tree_iterations = 4\n",
        "tree_angle = 30\n",
        "\n",
        "# Generate and draw\n",
        "setup_turtle()\n",
        "tree_instructions = create_l_system(tree_iterations, tree_axiom, tree_rules)\n",
        "draw_l_system(tree_instructions, tree_angle, 5)"
      ]
    },
    {
      "cell_type": "markdown",
      "metadata": {
        "id": "uOl9cUMf4Sco"
      },
      "source": []
    }
  ],
  "metadata": {
    "colab": {
      "provenance": []
    },
    "kernelspec": {
      "display_name": "Python 3",
      "name": "python3"
    },
    "language_info": {
      "name": "python"
    }
  },
  "nbformat": 4,
  "nbformat_minor": 0
}